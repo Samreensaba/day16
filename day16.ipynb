{
 "cells": [
  {
   "cell_type": "code",
   "execution_count": 1,
   "id": "d0d15eba-8fe0-45a9-a031-587204a9bf3a",
   "metadata": {},
   "outputs": [
    {
     "name": "stdout",
     "output_type": "stream",
     "text": [
      "Fill In The Blank Lyrics!\n",
      "\n",
      "Type in the blank lyrics and see if you are as cool as me.\n",
      "\n"
     ]
    },
    {
     "name": "stdin",
     "output_type": "stream",
     "text": [
      "Never going to _______ you up.  take\n"
     ]
    },
    {
     "name": "stdout",
     "output_type": "stream",
     "text": [
      "take\n",
      "Nope, try again.\n"
     ]
    },
    {
     "name": "stdin",
     "output_type": "stream",
     "text": [
      "Never going to _______ you up.  lift\n"
     ]
    },
    {
     "name": "stdout",
     "output_type": "stream",
     "text": [
      "lift\n",
      "Nope, try again.\n"
     ]
    },
    {
     "name": "stdin",
     "output_type": "stream",
     "text": [
      "Never going to _______ you up.  shift\n"
     ]
    },
    {
     "name": "stdout",
     "output_type": "stream",
     "text": [
      "shift\n",
      "Nope, try again.\n"
     ]
    },
    {
     "name": "stdin",
     "output_type": "stream",
     "text": [
      "Never going to _______ you up.  give\n"
     ]
    },
    {
     "name": "stdout",
     "output_type": "stream",
     "text": [
      "Well done it only took 4  attempts.\n"
     ]
    }
   ],
   "source": [
    "print(\"Fill In The Blank Lyrics!\")\n",
    "print()\n",
    "print(\"Type in the blank lyrics and see if you are as cool as me.\")\n",
    "print()\n",
    "count = 1\n",
    "while True:\n",
    " missingWord = input(\"Never going to _______ you up. \")\n",
    " if missingWord != \"give\":\n",
    "   print(missingWord)\n",
    "   print(\"Nope, try again.\")\n",
    "   count += 1\n",
    " else:\n",
    "  break\n",
    "print(\"Well done it only took\", count, \" attempts.\")"
   ]
  },
  {
   "cell_type": "code",
   "execution_count": null,
   "id": "857f17f6-38bf-48cd-8e62-e8ca05ba663e",
   "metadata": {},
   "outputs": [],
   "source": []
  }
 ],
 "metadata": {
  "kernelspec": {
   "display_name": "Python 3 (ipykernel)",
   "language": "python",
   "name": "python3"
  },
  "language_info": {
   "codemirror_mode": {
    "name": "ipython",
    "version": 3
   },
   "file_extension": ".py",
   "mimetype": "text/x-python",
   "name": "python",
   "nbconvert_exporter": "python",
   "pygments_lexer": "ipython3",
   "version": "3.12.4"
  }
 },
 "nbformat": 4,
 "nbformat_minor": 5
}
